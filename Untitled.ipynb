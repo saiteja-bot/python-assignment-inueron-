{
 "cells": [
  {
   "cell_type": "code",
   "execution_count": 5,
   "metadata": {},
   "outputs": [
    {
     "name": "stdout",
     "output_type": "stream",
     "text": [
      "enter your firstnamesai\n",
      "enter your lastnameteja\n",
      "teja sai\n"
     ]
    }
   ],
   "source": [
    "\"3.Write a Python program to accept the user's first and last name and then getting them printed inthe the reverse order with a space between first name and last name.\"\n",
    "a=input(\"enter your firstname\")\n",
    "b=input(\"enter your lastname\")\n",
    "print(b+\" \"+a)"
   ]
  },
  {
   "cell_type": "code",
   "execution_count": null,
   "metadata": {},
   "outputs": [],
   "source": []
  }
 ],
 "metadata": {
  "kernelspec": {
   "display_name": "Python 3",
   "language": "python",
   "name": "python3"
  },
  "language_info": {
   "codemirror_mode": {
    "name": "ipython",
    "version": 3
   },
   "file_extension": ".py",
   "mimetype": "text/x-python",
   "name": "python",
   "nbconvert_exporter": "python",
   "pygments_lexer": "ipython3",
   "version": "3.7.6"
  }
 },
 "nbformat": 4,
 "nbformat_minor": 4
}
